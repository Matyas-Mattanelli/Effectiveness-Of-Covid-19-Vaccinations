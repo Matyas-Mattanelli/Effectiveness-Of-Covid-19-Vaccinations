{
 "cells": [
  {
   "cell_type": "code",
   "execution_count": 17,
   "metadata": {},
   "outputs": [],
   "source": [
    "import requests\n",
    "from bs4 import BeautifulSoup\n",
    "import numpy as np\n",
    "import pandas as pd"
   ]
  },
  {
   "cell_type": "code",
   "execution_count": 10,
   "metadata": {},
   "outputs": [
    {
     "data": {
      "text/plain": [
       "200"
      ]
     },
     "execution_count": 10,
     "metadata": {},
     "output_type": "execute_result"
    }
   ],
   "source": [
    "request=requests.get('https://www.weatherbase.com/weather/weather.php3?s=598861&cityname=%27Alaqahdari-Dishu-Afghanistan&set=metric')\n",
    "request.status_code"
   ]
  },
  {
   "cell_type": "code",
   "execution_count": 15,
   "metadata": {},
   "outputs": [
    {
     "data": {
      "text/plain": [
       "[8.7, 11.8, 17.6, 24.0, 29.1, 33.6, 34.8, 32.7, 27.6, 21.8, 15.0, 10.4]"
      ]
     },
     "execution_count": 15,
     "metadata": {},
     "output_type": "execute_result"
    }
   ],
   "source": [
    "soup=BeautifulSoup(request.content)\n",
    "avg_temp=soup.find_all('td',{'class':'data'})\n",
    "avg_temp_text=[i.text for i in avg_temp]\n",
    "avg_temp_c=[float(i) for i in avg_temp_text[1:13]]\n",
    "avg_temp_c"
   ]
  },
  {
   "cell_type": "code",
   "execution_count": 16,
   "metadata": {},
   "outputs": [
    {
     "data": {
      "text/plain": [
       "200"
      ]
     },
     "execution_count": 16,
     "metadata": {},
     "output_type": "execute_result"
    }
   ],
   "source": [
    "request_afg=requests.get('https://www.weatherbase.com/weather/city.php3?c=AF&name=Afghanistan')\n",
    "request_afg.status_code"
   ]
  },
  {
   "cell_type": "code",
   "execution_count": 20,
   "metadata": {},
   "outputs": [],
   "source": [
    "soup_afg=BeautifulSoup(request_afg.content)\n",
    "cities=soup_afg.find_all('a',{'class':'redglow'})\n",
    "cities_href=[i['href'] for i in cities]\n",
    "cities_href_complete=['https://www.weatherbase.com/'+i+'&set=metric' for i in cities_href]"
   ]
  },
  {
   "cell_type": "markdown",
   "metadata": {},
   "source": [
    "## Start of actual code"
   ]
  },
  {
   "cell_type": "code",
   "execution_count": 3,
   "metadata": {},
   "outputs": [],
   "source": [
    "import requests\n",
    "from bs4 import BeautifulSoup"
   ]
  },
  {
   "cell_type": "code",
   "execution_count": 4,
   "metadata": {},
   "outputs": [
    {
     "data": {
      "text/plain": [
       "200"
      ]
     },
     "execution_count": 4,
     "metadata": {},
     "output_type": "execute_result"
    }
   ],
   "source": [
    "request_countries=requests.get('https://www.weatherbase.com/weather/countryall.php3')\n",
    "request_countries.status_code"
   ]
  },
  {
   "cell_type": "code",
   "execution_count": 5,
   "metadata": {},
   "outputs": [],
   "source": [
    "soup_countries=BeautifulSoup(request_countries.content)\n",
    "countries=soup_countries.find_all('a',{'class':'redglow'})\n",
    "countries_href=[i['href'] for i in countries]\n",
    "countries_href_complete=['https://www.weatherbase.com/'+i for i in countries_href]"
   ]
  },
  {
   "cell_type": "code",
   "execution_count": 6,
   "metadata": {},
   "outputs": [],
   "source": [
    "requests_for_all_countries=[]\n",
    "for i in countries_href_complete:\n",
    "    request=requests.get(i)\n",
    "    if request.status_code==200:\n",
    "        requests_for_all_countries.append(requests.get(i))\n",
    "    else:\n",
    "        print('error'+' '+i)"
   ]
  },
  {
   "cell_type": "code",
   "execution_count": 7,
   "metadata": {},
   "outputs": [],
   "source": [
    "country_names=[i.text for i in countries]\n",
    "cities_links_by_country={}\n",
    "for i in range(len(country_names)):\n",
    "    soup=BeautifulSoup(requests_for_all_countries[i].content)\n",
    "    cities=soup.find_all('a',{'class':'redglow'})\n",
    "    cities_links_by_country[country_names[i]]=['https://www.weatherbase.com/'+i['href']+'&set=metric' for i in cities]"
   ]
  },
  {
   "cell_type": "code",
   "execution_count": 9,
   "metadata": {},
   "outputs": [],
   "source": [
    "cities_requests_by_country={}\n",
    "for i in range(len(country_names)):\n",
    "    request_list=[]\n",
    "    for j in cities_links_by_country[country_names[i]]:\n",
    "        request=requests.get(j)\n",
    "        if request.status_code==200:\n",
    "            request_list.append(request)\n",
    "        else:\n",
    "            print('Error'+' '+i+' '+j)\n",
    "    cities_requests_by_country[country_names[i]]=request_list"
   ]
  },
  {
   "cell_type": "code",
   "execution_count": 14,
   "metadata": {},
   "outputs": [],
   "source": [
    "cities_data_by_country={}\n",
    "for i in range(len(country_names)):\n",
    "    data_list=[]\n",
    "    for j in cities_requests_by_country[country_names[i]]:\n",
    "        soup=BeautifulSoup(j.content)\n",
    "        data_all=soup.find_all('td',{'class':'data'})\n",
    "        avg_temp=[x.text for x in data_all[1:13]]\n",
    "        final_vector=[]\n",
    "        for z in avg_temp:\n",
    "            try:\n",
    "                final_vector.append(float(z))\n",
    "            except:\n",
    "                final_vector.append(z)\n",
    "        data_list.append(final_vector)\n",
    "    cities_data_by_country[country_names[i]]=data_list"
   ]
  },
  {
   "cell_type": "code",
   "execution_count": 50,
   "metadata": {},
   "outputs": [],
   "source": [
    "#Remove empty vectors\n",
    "cities_data_by_country_final={}\n",
    "for i in country_names:\n",
    "    data_list=cities_data_by_country[i]\n",
    "    cities_data_by_country_final[i]=[x for x in data_list if x!=[]]\n"
   ]
  },
  {
   "cell_type": "code",
   "execution_count": 94,
   "metadata": {},
   "outputs": [
    {
     "name": "stderr",
     "output_type": "stream",
     "text": [
      "C:\\Users\\matya\\AppData\\Local\\Temp/ipykernel_9272/3651547456.py:8: FutureWarning: elementwise comparison failed; returning scalar instead, but in the future will perform elementwise comparison\n",
      "  vector[vector=='---']=np.nan\n"
     ]
    }
   ],
   "source": [
    "#Remove too high or too low values\n",
    "cities_data_by_country_final_finally={}\n",
    "for i in country_names:\n",
    "    data_list=cities_data_by_country_final[i]\n",
    "    new_data_list=[]\n",
    "    for j in data_list:\n",
    "        vector=np.array(j)\n",
    "        vector[vector=='---']=np.nan\n",
    "        vector=vector.astype(float)\n",
    "        if sum((vector>56.7)|(vector<-89.2))>0:\n",
    "            pass\n",
    "        else:\n",
    "            new_data_list.append(vector)\n",
    "    cities_data_by_country_final_finally[i]=np.array(new_data_list)"
   ]
  },
  {
   "cell_type": "code",
   "execution_count": 95,
   "metadata": {},
   "outputs": [
    {
     "name": "stderr",
     "output_type": "stream",
     "text": [
      "C:\\Users\\matya\\AppData\\Local\\Temp/ipykernel_9272/3219437925.py:4: RuntimeWarning: Mean of empty slice\n",
      "  monthly_avg_temp[i]=np.nanmean(country_data,axis=0)\n"
     ]
    }
   ],
   "source": [
    "monthly_avg_temp={}\n",
    "for i in country_names:\n",
    "    country_data=cities_data_by_country_final_finally[i]\n",
    "    monthly_avg_temp[i]=np.nanmean(country_data,axis=0)"
   ]
  },
  {
   "cell_type": "code",
   "execution_count": 97,
   "metadata": {},
   "outputs": [],
   "source": [
    "df=pd.DataFrame(monthly_avg_temp)\n",
    "df=df.T\n",
    "df.columns=['January','February','March','April','May','June','July','August','September','October','November','December']"
   ]
  },
  {
   "cell_type": "code",
   "execution_count": 98,
   "metadata": {},
   "outputs": [],
   "source": [
    "df['Country']=df.index"
   ]
  },
  {
   "cell_type": "code",
   "execution_count": 99,
   "metadata": {},
   "outputs": [],
   "source": [
    "df_final=df.melt(id_vars='Country',var_name='Month',value_name='Average_Temperature')"
   ]
  },
  {
   "cell_type": "code",
   "execution_count": 103,
   "metadata": {},
   "outputs": [],
   "source": [
    "df_final.to_csv('avg_temp.csv',index=False)"
   ]
  }
 ],
 "metadata": {
  "interpreter": {
   "hash": "1f2e975888e86c326e42558cd0245e721b17a19f2abd9ef3d2679d2ce5d88c35"
  },
  "kernelspec": {
   "display_name": "Python 3.9.7 64-bit ('my_env': conda)",
   "language": "python",
   "name": "python3"
  },
  "language_info": {
   "codemirror_mode": {
    "name": "ipython",
    "version": 3
   },
   "file_extension": ".py",
   "mimetype": "text/x-python",
   "name": "python",
   "nbconvert_exporter": "python",
   "pygments_lexer": "ipython3",
   "version": "3.9.7"
  },
  "orig_nbformat": 4
 },
 "nbformat": 4,
 "nbformat_minor": 2
}
